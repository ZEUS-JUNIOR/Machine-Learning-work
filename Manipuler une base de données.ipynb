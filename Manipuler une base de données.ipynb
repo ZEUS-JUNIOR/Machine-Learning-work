{
 "cells": [
  {
   "cell_type": "code",
   "execution_count": 1,
   "id": "8557c28d",
   "metadata": {},
   "outputs": [],
   "source": [
    "import numpy as np\n",
    "import pandas as pd\n",
    "import matplotlib.pyplot as plt\n",
    "import seaborn as sns\n",
    "sns.set(style=\"darkgrid\")\n",
    "import sqlite3 as sql"
   ]
  },
  {
   "cell_type": "code",
   "execution_count": 2,
   "id": "82407649",
   "metadata": {},
   "outputs": [
    {
     "name": "stdout",
     "output_type": "stream",
     "text": [
      "   id                           product    cost   company\n",
      "0   1              Liners - Baking Cups   $6.36  Skipfire\n",
      "1   2        Nori Sea Weed - Gold Label  $85.74   Dynazzy\n",
      "2   3                Bar Bran Honey Nut  $65.40      Ntag\n",
      "3   4        Soup - Campbells Beef Stew  $68.16  Photojam\n",
      "4   5  Wine - Shiraz Wolf Blass Premium  $87.39      Eare\n",
      "   id purch_date  customer_num  product_num  amount     paid\n",
      "0   1  3/01/2019           823           27      12  $568.92\n",
      "1   2  3/01/2019           606           28      14  $395.36\n",
      "2   3  3/01/2019           955            9      17  $510.17\n",
      "3   4  3/01/2019           577           19       3   $68.49\n",
      "4   5  3/01/2019           429            8      18  $759.42\n"
     ]
    }
   ],
   "source": [
    "con = sql.connect(\"Python Data Cleaning/remoteDB.db\")\n",
    "products = pd.read_sql_query(\"SELECT * from products\", con)\n",
    "purchases = pd.read_sql_query(\"SELECT * from purchases\", con)\n",
    "con.close()\n",
    "\n",
    "print(products.head(5))\n",
    "print(purchases.head(5))"
   ]
  },
  {
   "cell_type": "code",
   "execution_count": 4,
   "id": "3d1f056e",
   "metadata": {},
   "outputs": [
    {
     "name": "stdout",
     "output_type": "stream",
     "text": [
      "(60, 4)\n",
      "id          int64\n",
      "product    object\n",
      "cost       object\n",
      "company    object\n",
      "dtype: object\n",
      "               id             product    cost company\n",
      "count   60.000000                  60      60      55\n",
      "unique        NaN                  58      59      50\n",
      "top           NaN  Bar Bran Honey Nut  $13.83    Ntag\n",
      "freq          NaN                   2       2       2\n",
      "mean    30.500000                 NaN     NaN     NaN\n",
      "std     17.464249                 NaN     NaN     NaN\n",
      "min      1.000000                 NaN     NaN     NaN\n",
      "25%     15.750000                 NaN     NaN     NaN\n",
      "50%     30.500000                 NaN     NaN     NaN\n",
      "75%     45.250000                 NaN     NaN     NaN\n",
      "max     60.000000                 NaN     NaN     NaN\n"
     ]
    }
   ],
   "source": [
    "print(products.shape)\n",
    "print(products.dtypes)\n",
    "print(products.describe(include=\"all\"))"
   ]
  },
  {
   "cell_type": "code",
   "execution_count": null,
   "id": "d8069bc5",
   "metadata": {},
   "outputs": [],
   "source": []
  }
 ],
 "metadata": {
  "kernelspec": {
   "display_name": "Python 3",
   "language": "python",
   "name": "python3"
  },
  "language_info": {
   "codemirror_mode": {
    "name": "ipython",
    "version": 3
   },
   "file_extension": ".py",
   "mimetype": "text/x-python",
   "name": "python",
   "nbconvert_exporter": "python",
   "pygments_lexer": "ipython3",
   "version": "3.8.10"
  }
 },
 "nbformat": 4,
 "nbformat_minor": 5
}
