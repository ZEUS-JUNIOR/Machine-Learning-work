{
 "cells": [
  {
   "cell_type": "code",
   "execution_count": 1,
   "id": "83ba4b33",
   "metadata": {},
   "outputs": [],
   "source": [
    "import pandas as pd\n",
    "from sklearn.preprocessing import LabelEncoder\n",
    "import seaborn as sns\n",
    "import numpy as np\n",
    "import matplotlib.pyplot as plt"
   ]
  },
  {
   "cell_type": "code",
   "execution_count": 3,
   "id": "6b0349a4",
   "metadata": {},
   "outputs": [],
   "source": [
    "from sklearn.linear_model import LinearRegression,Lasso,Ridge,SGDRegressor,ElasticNet\n",
    "from sklearn.svm import SVR"
   ]
  },
  {
   "cell_type": "code",
   "execution_count": 12,
   "id": "f9cba8ec",
   "metadata": {},
   "outputs": [],
   "source": [
    "dataset = pd.read_csv(\"Salary_Data.csv\")"
   ]
  },
  {
   "cell_type": "code",
   "execution_count": 7,
   "id": "b7c83e00",
   "metadata": {},
   "outputs": [
    {
     "data": {
      "text/html": [
       "<div>\n",
       "<style scoped>\n",
       "    .dataframe tbody tr th:only-of-type {\n",
       "        vertical-align: middle;\n",
       "    }\n",
       "\n",
       "    .dataframe tbody tr th {\n",
       "        vertical-align: top;\n",
       "    }\n",
       "\n",
       "    .dataframe thead th {\n",
       "        text-align: right;\n",
       "    }\n",
       "</style>\n",
       "<table border=\"1\" class=\"dataframe\">\n",
       "  <thead>\n",
       "    <tr style=\"text-align: right;\">\n",
       "      <th></th>\n",
       "      <th>YearsExperience</th>\n",
       "      <th>Salary</th>\n",
       "    </tr>\n",
       "  </thead>\n",
       "  <tbody>\n",
       "    <tr>\n",
       "      <th>0</th>\n",
       "      <td>1.1</td>\n",
       "      <td>39343.0</td>\n",
       "    </tr>\n",
       "    <tr>\n",
       "      <th>1</th>\n",
       "      <td>1.3</td>\n",
       "      <td>46205.0</td>\n",
       "    </tr>\n",
       "    <tr>\n",
       "      <th>2</th>\n",
       "      <td>1.5</td>\n",
       "      <td>37731.0</td>\n",
       "    </tr>\n",
       "    <tr>\n",
       "      <th>3</th>\n",
       "      <td>2.0</td>\n",
       "      <td>43525.0</td>\n",
       "    </tr>\n",
       "    <tr>\n",
       "      <th>4</th>\n",
       "      <td>2.2</td>\n",
       "      <td>39891.0</td>\n",
       "    </tr>\n",
       "  </tbody>\n",
       "</table>\n",
       "</div>"
      ],
      "text/plain": [
       "   YearsExperience   Salary\n",
       "0              1.1  39343.0\n",
       "1              1.3  46205.0\n",
       "2              1.5  37731.0\n",
       "3              2.0  43525.0\n",
       "4              2.2  39891.0"
      ]
     },
     "execution_count": 7,
     "metadata": {},
     "output_type": "execute_result"
    }
   ],
   "source": [
    "dataset.head()"
   ]
  },
  {
   "cell_type": "code",
   "execution_count": 8,
   "id": "2c5b4301",
   "metadata": {},
   "outputs": [
    {
     "data": {
      "text/plain": [
       "<seaborn.axisgrid.PairGrid at 0x1435e907a00>"
      ]
     },
     "execution_count": 8,
     "metadata": {},
     "output_type": "execute_result"
    },
    {
     "data": {
      "image/png": "[encoded data removed]",
      "text/plain": [
       "<Figure size 360x360 with 6 Axes>"
      ]
     },
     "metadata": {
      "needs_background": "light"
     },
     "output_type": "display_data"
    }
   ],
   "source": [
    "sns.pairplot(dataset)"
   ]
  },
  {
   "cell_type": "code",
   "execution_count": 14,
   "id": "577450ba",
   "metadata": {},
   "outputs": [],
   "source": [
    "X = dataset[\"YearsExperience\"]\n",
    "y = dataset[\"Salary\"]"
   ]
  },
  {
   "cell_type": "code",
   "execution_count": 15,
   "id": "7215fe0d",
   "metadata": {},
   "outputs": [
    {
     "data": {
      "text/plain": [
       "((30,), (30,))"
      ]
     },
     "execution_count": 15,
     "metadata": {},
     "output_type": "execute_result"
    }
   ],
   "source": [
    "X.shape,y.shape"
   ]
  },
  {
   "cell_type": "code",
   "execution_count": 17,
   "id": "7cbc27c2",
   "metadata": {},
   "outputs": [],
   "source": [
    "X = np.array(X).reshape((X.shape[0],1))\n",
    "y = np.array(y).reshape((y.shape[0],1))"
   ]
  },
  {
   "cell_type": "code",
   "execution_count": 18,
   "id": "f46622be",
   "metadata": {},
   "outputs": [
    {
     "data": {
      "text/plain": [
       "<matplotlib.collections.PathCollection at 0x1435f2202b0>"
      ]
     },
     "execution_count": 18,
     "metadata": {},
     "output_type": "execute_result"
    },
    {
     "data": {
      "image/png": "[encoded data removed]",
      "text/plain": [
       "<Figure size 432x288 with 1 Axes>"
      ]
     },
     "metadata": {
      "needs_background": "light"
     },
     "output_type": "display_data"
    }
   ],
   "source": [
    "plt.scatter(X,y)"
   ]
  },
  {
   "cell_type": "code",
   "execution_count": 19,
   "id": "38dc812c",
   "metadata": {},
   "outputs": [],
   "source": [
    "from sklearn.model_selection import train_test_split\n",
    "X_train,X_test,y_train,y_test = train_test_split(X,y,test_size=0.2,random_state = 42)"
   ]
  },
  {
   "cell_type": "code",
   "execution_count": 20,
   "id": "fda1319d",
   "metadata": {},
   "outputs": [
    {
     "data": {
      "text/plain": [
       "(30, 1)"
      ]
     },
     "execution_count": 20,
     "metadata": {},
     "output_type": "execute_result"
    }
   ],
   "source": [
    "X.shape"
   ]
  },
  {
   "cell_type": "code",
   "execution_count": 23,
   "id": "8d9a99c5",
   "metadata": {},
   "outputs": [
    {
     "name": "stdout",
     "output_type": "stream",
     "text": [
      "le score est de :  0.9024461774180497\n"
     ]
    }
   ],
   "source": [
    "# défénition du modèle\n",
    "model = LinearRegression()\n",
    "# entrainnement \n",
    "model.fit(X_train,y_train)\n",
    "# evaluation\n",
    "print( \"le score est de : \",model.score(X_test,y_test))\n",
    "# predictions\n",
    "y_pred = model.predict(X)"
   ]
  },
  {
   "cell_type": "code",
   "execution_count": 27,
   "id": "36e1c66c",
   "metadata": {},
   "outputs": [
    {
     "data": {
      "text/plain": [
       "<matplotlib.collections.PathCollection at 0x1435f3e4fd0>"
      ]
     },
     "execution_count": 27,
     "metadata": {},
     "output_type": "execute_result"
    },
    {
     "data": {
      "image/png": "[encoded data removed]",
      "text/plain": [
       "<Figure size 432x288 with 1 Axes>"
      ]
     },
     "metadata": {
      "needs_background": "light"
     },
     "output_type": "display_data"
    }
   ],
   "source": [
    "plt.plot(X,y_pred,c='r')\n",
    "plt.scatter(X,y)"
   ]
  },
  {
   "cell_type": "code",
   "execution_count": 28,
   "id": "2a51795f",
   "metadata": {},
   "outputs": [
    {
     "name": "stdout",
     "output_type": "stream",
     "text": [
      "le score est de :  0.9021627846740267\n"
     ]
    },
    {
     "data": {
      "text/plain": [
       "<matplotlib.collections.PathCollection at 0x1435f173fa0>"
      ]
     },
     "execution_count": 28,
     "metadata": {},
     "output_type": "execute_result"
    },
    {
     "data": {
      "image/png": "[encoded data removed]",
      "text/plain": [
       "<Figure size 432x288 with 1 Axes>"
      ]
     },
     "metadata": {
      "needs_background": "light"
     },
     "output_type": "display_data"
    }
   ],
   "source": [
    "# défénition du modèle\n",
    "model = Ridge()\n",
    "# entrainnement \n",
    "model.fit(X_train,y_train)\n",
    "# evaluation\n",
    "print( \"le score est de : \",model.score(X_test,y_test))\n",
    "# predictions\n",
    "y_pred = model.predict(X)\n",
    "\n",
    "plt.plot(X,y_pred,c='r')\n",
    "plt.scatter(X,y)"
   ]
  },
  {
   "cell_type": "code",
   "execution_count": 29,
   "id": "2ce663ca",
   "metadata": {},
   "outputs": [
    {
     "name": "stdout",
     "output_type": "stream",
     "text": [
      "le score est de :  0.8962527621642432\n"
     ]
    },
    {
     "data": {
      "text/plain": [
       "<matplotlib.collections.PathCollection at 0x1435f173c40>"
      ]
     },
     "execution_count": 29,
     "metadata": {},
     "output_type": "execute_result"
    },
    {
     "data": {
      "image/png": "[encoded data removed]",
      "text/plain": [
       "<Figure size 432x288 with 1 Axes>"
      ]
     },
     "metadata": {
      "needs_background": "light"
     },
     "output_type": "display_data"
    }
   ],
   "source": [
    "# défénition du modèle\n",
    "model = ElasticNet()\n",
    "# entrainnement \n",
    "model.fit(X_train,y_train)\n",
    "# evaluation\n",
    "print( \"le score est de : \",model.score(X_test,y_test))\n",
    "# predictions\n",
    "y_pred = model.predict(X)\n",
    "\n",
    "plt.plot(X,y_pred,c='r')\n",
    "plt.scatter(X,y)"
   ]
  },
  {
   "cell_type": "code",
   "execution_count": 30,
   "id": "7abf60f5",
   "metadata": {},
   "outputs": [
    {
     "name": "stdout",
     "output_type": "stream",
     "text": [
      "le score est de :  0.9024455162895476\n"
     ]
    },
    {
     "data": {
      "text/plain": [
       "<matplotlib.collections.PathCollection at 0x1435ee0e310>"
      ]
     },
     "execution_count": 30,
     "metadata": {},
     "output_type": "execute_result"
    },
    {
     "data": {
      "image/png": "[encoded data removed]",
      "text/plain": [
       "<Figure size 432x288 with 1 Axes>"
      ]
     },
     "metadata": {
      "needs_background": "light"
     },
     "output_type": "display_data"
    }
   ],
   "source": [
    "# défénition du modèle\n",
    "model = Lasso()\n",
    "# entrainnement \n",
    "model.fit(X_train,y_train)\n",
    "# evaluation\n",
    "print( \"le score est de : \",model.score(X_test,y_test))\n",
    "# predictions\n",
    "y_pred = model.predict(X)\n",
    "\n",
    "plt.plot(X,y_pred,c='r')\n",
    "plt.scatter(X,y)"
   ]
  },
  {
   "cell_type": "code",
   "execution_count": 31,
   "id": "e23e5623",
   "metadata": {},
   "outputs": [],
   "source": [
    "from sklearn.datasets import make_regression"
   ]
  },
  {
   "cell_type": "code",
   "execution_count": 32,
   "id": "43916fe7",
   "metadata": {
    "collapsed": true
   },
   "outputs": [
    {
     "name": "stdout",
     "output_type": "stream",
     "text": [
      "Help on function make_regression in module sklearn.datasets._samples_generator:\n",
      "\n",
      "make_regression(n_samples=100, n_features=100, *, n_informative=10, n_targets=1, bias=0.0, effective_rank=None, tail_strength=0.5, noise=0.0, shuffle=True, coef=False, random_state=None)\n",
      "    Generate a random regression problem.\n",
      "    \n",
      "    The input set can either be well conditioned (by default) or have a low\n",
      "    rank-fat tail singular profile. See :func:`make_low_rank_matrix` for\n",
      "    more details.\n",
      "    \n",
      "    The output is generated by applying a (potentially biased) random linear\n",
      "    regression model with `n_informative` nonzero regressors to the previously\n",
      "    generated input and some gaussian centered noise with some adjustable\n",
      "    scale.\n",
      "    \n",
      "    Read more in the :ref:`User Guide <sample_generators>`.\n",
      "    \n",
      "    Parameters\n",
      "    ----------\n",
      "    n_samples : int, default=100\n",
      "        The number of samples.\n",
      "    \n",
      "    n_features : int, default=100\n",
      "        The number of features.\n",
      "    \n",
      "    n_informative : int, default=10\n",
      "        The number of informative features, i.e., the number of features used\n",
      "        to build the linear model used to generate the output.\n",
      "    \n",
      "    n_targets : int, default=1\n",
      "        The number of regression targets, i.e., the dimension of the y output\n",
      "        vector associated with a sample. By default, the output is a scalar.\n",
      "    \n",
      "    bias : float, default=0.0\n",
      "        The bias term in the underlying linear model.\n",
      "    \n",
      "    effective_rank : int, default=None\n",
      "        if not None:\n",
      "            The approximate number of singular vectors required to explain most\n",
      "            of the input data by linear combinations. Using this kind of\n",
      "            singular spectrum in the input allows the generator to reproduce\n",
      "            the correlations often observed in practice.\n",
      "        if None:\n",
      "            The input set is well conditioned, centered and gaussian with\n",
      "            unit variance.\n",
      "    \n",
      "    tail_strength : float, default=0.5\n",
      "        The relative importance of the fat noisy tail of the singular values\n",
      "        profile if `effective_rank` is not None. When a float, it should be\n",
      "        between 0 and 1.\n",
      "    \n",
      "    noise : float, default=0.0\n",
      "        The standard deviation of the gaussian noise applied to the output.\n",
      "    \n",
      "    shuffle : bool, default=True\n",
      "        Shuffle the samples and the features.\n",
      "    \n",
      "    coef : bool, default=False\n",
      "        If True, the coefficients of the underlying linear model are returned.\n",
      "    \n",
      "    random_state : int, RandomState instance or None, default=None\n",
      "        Determines random number generation for dataset creation. Pass an int\n",
      "        for reproducible output across multiple function calls.\n",
      "        See :term:`Glossary <random_state>`.\n",
      "    \n",
      "    Returns\n",
      "    -------\n",
      "    X : ndarray of shape (n_samples, n_features)\n",
      "        The input samples.\n",
      "    \n",
      "    y : ndarray of shape (n_samples,) or (n_samples, n_targets)\n",
      "        The output values.\n",
      "    \n",
      "    coef : ndarray of shape (n_features,) or (n_features, n_targets)\n",
      "        The coefficient of the underlying linear model. It is returned only if\n",
      "        coef is True.\n",
      "\n"
     ]
    }
   ],
   "source": [
    "help(make_regression)"
   ]
  },
  {
   "cell_type": "code",
   "execution_count": 72,
   "id": "4913608f",
   "metadata": {},
   "outputs": [],
   "source": [
    "X,y = make_regression(n_samples=300, n_features=15, n_targets=1, noise=35,  random_state=42)"
   ]
  },
  {
   "cell_type": "code",
   "execution_count": 73,
   "id": "173b3b26",
   "metadata": {},
   "outputs": [
    {
     "data": {
      "text/plain": [
       "((300, 15), (300,))"
      ]
     },
     "execution_count": 73,
     "metadata": {},
     "output_type": "execute_result"
    }
   ],
   "source": [
    "X.shape,y.shape"
   ]
  },
  {
   "cell_type": "code",
   "execution_count": 74,
   "id": "2acf58d0",
   "metadata": {},
   "outputs": [],
   "source": [
    "y = y.reshape((y.shape[0],1))"
   ]
  },
  {
   "cell_type": "code",
   "execution_count": 75,
   "id": "f5412ac6",
   "metadata": {},
   "outputs": [
    {
     "data": {
      "text/plain": [
       "<matplotlib.colorbar.Colorbar at 0x1435f2919d0>"
      ]
     },
     "execution_count": 75,
     "metadata": {},
     "output_type": "execute_result"
    },
    {
     "data": {
      "image/png": "[encoded data removed]",
      "text/plain": [
       "<Figure size 432x288 with 2 Axes>"
      ]
     },
     "metadata": {
      "needs_background": "light"
     },
     "output_type": "display_data"
    }
   ],
   "source": [
    "plt.scatter(X[:,0],X[:,1],c=y)\n",
    "plt.colorbar()"
   ]
  },
  {
   "cell_type": "code",
   "execution_count": 76,
   "id": "36ef95dd",
   "metadata": {},
   "outputs": [],
   "source": [
    "X_train,X_test,y_train,y_test = train_test_split(X,y,test_size=0.2,random_state = 42)"
   ]
  },
  {
   "cell_type": "code",
   "execution_count": 66,
   "id": "efff2ab4",
   "metadata": {},
   "outputs": [
    {
     "name": "stdout",
     "output_type": "stream",
     "text": [
      "le score est de :  0.9448984567808832\n"
     ]
    }
   ],
   "source": [
    "# défénition du modèle\n",
    "model = LinearRegression()\n",
    "# entrainnement \n",
    "model.fit(X_train,y_train)\n",
    "# evaluation\n",
    "print( \"le score est de : \",model.score(X_test,y_test))\n",
    "# predictions\n",
    "y_pred = model.predict(X)"
   ]
  },
  {
   "cell_type": "code",
   "execution_count": 67,
   "id": "f304ca26",
   "metadata": {},
   "outputs": [
    {
     "name": "stdout",
     "output_type": "stream",
     "text": [
      "le score est de :  0.9449167909754377\n"
     ]
    },
    {
     "name": "stderr",
     "output_type": "stream",
     "text": [
      "C:\\Users\\ZEUS\\anaconda3\\envs\\zelef\\lib\\site-packages\\sklearn\\utils\\validation.py:63: DataConversionWarning: A column-vector y was passed when a 1d array was expected. Please change the shape of y to (n_samples, ), for example using ravel().\n",
      "  return f(*args, **kwargs)\n"
     ]
    }
   ],
   "source": [
    "# défénition du modèle\n",
    "model = SGDRegressor()\n",
    "# entrainnement \n",
    "model.fit(X_train,y_train)\n",
    "# evaluation\n",
    "print( \"le score est de : \",model.score(X_test,y_test))\n",
    "# predictions\n",
    "y_pred = model.predict(X)"
   ]
  },
  {
   "cell_type": "code",
   "execution_count": 69,
   "id": "c451ac19",
   "metadata": {},
   "outputs": [
    {
     "name": "stdout",
     "output_type": "stream",
     "text": [
      "le score est de :  0.944873421680705\n"
     ]
    },
    {
     "name": "stderr",
     "output_type": "stream",
     "text": [
      "C:\\Users\\ZEUS\\anaconda3\\envs\\zelef\\lib\\site-packages\\sklearn\\utils\\validation.py:63: DataConversionWarning: A column-vector y was passed when a 1d array was expected. Please change the shape of y to (n_samples, ), for example using ravel().\n",
      "  return f(*args, **kwargs)\n"
     ]
    }
   ],
   "source": [
    "# défénition du modèle et entrainnement \n",
    "model = SGDRegressor().fit(X_train,y_train)\n",
    "# evaluation\n",
    "print( \"le score est de : \",model.score(X_test,y_test))\n",
    "# predictions\n",
    "y_pred = model.predict(X)"
   ]
  },
  {
   "cell_type": "code",
   "execution_count": 70,
   "id": "58f49122",
   "metadata": {},
   "outputs": [
    {
     "name": "stdout",
     "output_type": "stream",
     "text": [
      "le score est de :  0.9213808517567448\n"
     ]
    },
    {
     "name": "stderr",
     "output_type": "stream",
     "text": [
      "C:\\Users\\ZEUS\\anaconda3\\envs\\zelef\\lib\\site-packages\\sklearn\\utils\\validation.py:63: DataConversionWarning: A column-vector y was passed when a 1d array was expected. Please change the shape of y to (n_samples, ), for example using ravel().\n",
      "  return f(*args, **kwargs)\n"
     ]
    }
   ],
   "source": [
    "# défénition du modèle et entrainnement \n",
    "model = SVR(kernel='linear').fit(X_train,y_train)\n",
    "# evaluation\n",
    "print( \"le score est de : \",model.score(X_test,y_test))\n",
    "# predictions\n",
    "y_pred = model.predict(X)"
   ]
  },
  {
   "cell_type": "code",
   "execution_count": 71,
   "id": "8c95e641",
   "metadata": {},
   "outputs": [
    {
     "name": "stdout",
     "output_type": "stream",
     "text": [
      "le score est de :  0.22373613646911095\n"
     ]
    },
    {
     "name": "stderr",
     "output_type": "stream",
     "text": [
      "C:\\Users\\ZEUS\\anaconda3\\envs\\zelef\\lib\\site-packages\\sklearn\\utils\\validation.py:63: DataConversionWarning: A column-vector y was passed when a 1d array was expected. Please change the shape of y to (n_samples, ), for example using ravel().\n",
      "  return f(*args, **kwargs)\n"
     ]
    }
   ],
   "source": [
    "model = SVR(kernel='rbf').fit(X_train,y_train)\n",
    "# evaluation\n",
    "print( \"le score est de : \",model.score(X_test,y_test))\n",
    "# predictions\n",
    "y_pred = model.predict(X)"
   ]
  },
  {
   "cell_type": "code",
   "execution_count": 79,
   "id": "0ad3f48d",
   "metadata": {},
   "outputs": [],
   "source": [
    "from sklearn.metrics import mean_squared_error,max_error"
   ]
  },
  {
   "cell_type": "code",
   "execution_count": 80,
   "id": "a0b65800",
   "metadata": {},
   "outputs": [
    {
     "data": {
      "text/plain": [
       "(28934.420758701108, 472.2983338388094)"
      ]
     },
     "execution_count": 80,
     "metadata": {},
     "output_type": "execute_result"
    }
   ],
   "source": [
    "mean_squared_error(y,y_pred),max_error(y,y_pred)"
   ]
  }
 ],
 "metadata": {
  "kernelspec": {
   "display_name": "Python 3",
   "language": "python",
   "name": "python3"
  },
  "language_info": {
   "codemirror_mode": {
    "name": "ipython",
    "version": 3
   },
   "file_extension": ".py",
   "mimetype": "text/x-python",
   "name": "python",
   "nbconvert_exporter": "python",
   "pygments_lexer": "ipython3",
   "version": "3.8.10"
  }
 },
 "nbformat": 4,
 "nbformat_minor": 5
}
