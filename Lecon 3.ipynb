{
 "cells": [
  {
   "cell_type": "markdown",
   "id": "8b2ec783",
   "metadata": {},
   "source": [
    "## Tuples\n",
    "\n",
    "les tuples permet de créer une liste de valeurs sécurisée"
   ]
  },
  {
   "cell_type": "code",
   "execution_count": 2,
   "id": "3daed720",
   "metadata": {},
   "outputs": [
    {
     "data": {
      "text/plain": [
       "()"
      ]
     },
     "execution_count": 2,
     "metadata": {},
     "output_type": "execute_result"
    }
   ],
   "source": [
    "tuple()"
   ]
  },
  {
   "cell_type": "code",
   "execution_count": 3,
   "id": "525ab41a",
   "metadata": {},
   "outputs": [
    {
     "data": {
      "text/plain": [
       "()"
      ]
     },
     "execution_count": 3,
     "metadata": {},
     "output_type": "execute_result"
    }
   ],
   "source": [
    "()"
   ]
  },
  {
   "cell_type": "code",
   "execution_count": 12,
   "id": "4164daba",
   "metadata": {},
   "outputs": [
    {
     "data": {
      "text/plain": [
       "(1, 2, 4, 5, 1, 1)"
      ]
     },
     "execution_count": 12,
     "metadata": {},
     "output_type": "execute_result"
    }
   ],
   "source": [
    "a = (1,2,4,5,1,1)\n",
    "a"
   ]
  },
  {
   "cell_type": "code",
   "execution_count": 13,
   "id": "fd134d76",
   "metadata": {},
   "outputs": [
    {
     "data": {
      "text/plain": [
       "tuple"
      ]
     },
     "execution_count": 13,
     "metadata": {},
     "output_type": "execute_result"
    }
   ],
   "source": [
    "type(a)"
   ]
  },
  {
   "cell_type": "code",
   "execution_count": 14,
   "id": "8e75e610",
   "metadata": {},
   "outputs": [
    {
     "data": {
      "text/plain": [
       "4"
      ]
     },
     "execution_count": 14,
     "metadata": {},
     "output_type": "execute_result"
    }
   ],
   "source": [
    "a[2]"
   ]
  },
  {
   "cell_type": "code",
   "execution_count": 15,
   "id": "dac4312f",
   "metadata": {},
   "outputs": [
    {
     "data": {
      "text/plain": [
       "(2, 4)"
      ]
     },
     "execution_count": 15,
     "metadata": {},
     "output_type": "execute_result"
    }
   ],
   "source": [
    "a[1:3]"
   ]
  },
  {
   "cell_type": "code",
   "execution_count": 16,
   "id": "2afeebfc",
   "metadata": {},
   "outputs": [
    {
     "data": {
      "text/plain": [
       "3"
      ]
     },
     "execution_count": 16,
     "metadata": {},
     "output_type": "execute_result"
    }
   ],
   "source": [
    "a.count(1)"
   ]
  },
  {
   "cell_type": "code",
   "execution_count": 19,
   "id": "c2deeaf8",
   "metadata": {},
   "outputs": [
    {
     "data": {
      "text/plain": [
       "2"
      ]
     },
     "execution_count": 19,
     "metadata": {},
     "output_type": "execute_result"
    }
   ],
   "source": [
    "a.index(4)"
   ]
  },
  {
   "cell_type": "code",
   "execution_count": 20,
   "id": "2aa75ace",
   "metadata": {},
   "outputs": [],
   "source": [
    "li = [1,2,6,5]"
   ]
  },
  {
   "cell_type": "code",
   "execution_count": 21,
   "id": "d70e5e99",
   "metadata": {},
   "outputs": [
    {
     "data": {
      "text/plain": [
       "[5, 2, 6, 5]"
      ]
     },
     "execution_count": 21,
     "metadata": {},
     "output_type": "execute_result"
    }
   ],
   "source": [
    "li[0] = 5\n",
    "li"
   ]
  },
  {
   "cell_type": "code",
   "execution_count": 22,
   "id": "ea3d53d3",
   "metadata": {},
   "outputs": [
    {
     "ename": "TypeError",
     "evalue": "'tuple' object does not support item assignment",
     "output_type": "error",
     "traceback": [
      "\u001b[1;31m---------------------------------------------------------------------------\u001b[0m",
      "\u001b[1;31mTypeError\u001b[0m                                 Traceback (most recent call last)",
      "\u001b[1;32m<ipython-input-22-fa1ba3f7cc8f>\u001b[0m in \u001b[0;36m<module>\u001b[1;34m\u001b[0m\n\u001b[1;32m----> 1\u001b[1;33m \u001b[0ma\u001b[0m\u001b[1;33m[\u001b[0m\u001b[1;36m0\u001b[0m\u001b[1;33m]\u001b[0m \u001b[1;33m=\u001b[0m \u001b[1;36m2\u001b[0m\u001b[1;33m\u001b[0m\u001b[1;33m\u001b[0m\u001b[0m\n\u001b[0m",
      "\u001b[1;31mTypeError\u001b[0m: 'tuple' object does not support item assignment"
     ]
    }
   ],
   "source": [
    "a[0] = 2 # le tuple est protégé"
   ]
  },
  {
   "cell_type": "code",
   "execution_count": 23,
   "id": "27d94439",
   "metadata": {},
   "outputs": [
    {
     "data": {
      "text/plain": [
       "([1, 2, 3], 5, 5, 8)"
      ]
     },
     "execution_count": 23,
     "metadata": {},
     "output_type": "execute_result"
    }
   ],
   "source": [
    "([1,2,3],5,5,8)"
   ]
  },
  {
   "cell_type": "code",
   "execution_count": 24,
   "id": "457313d6",
   "metadata": {},
   "outputs": [
    {
     "data": {
      "text/plain": [
       "[(1, 2, 5), 54, 8, 2, 88]"
      ]
     },
     "execution_count": 24,
     "metadata": {},
     "output_type": "execute_result"
    }
   ],
   "source": [
    "[(1,2,5),54,8,2,88]"
   ]
  },
  {
   "cell_type": "code",
   "execution_count": 26,
   "id": "601b87ca",
   "metadata": {},
   "outputs": [
    {
     "data": {
      "text/plain": [
       "[1, 2, 4, 5, 1, 1]"
      ]
     },
     "execution_count": 26,
     "metadata": {},
     "output_type": "execute_result"
    }
   ],
   "source": [
    "list(a)"
   ]
  },
  {
   "cell_type": "code",
   "execution_count": 27,
   "id": "8b76cf9b",
   "metadata": {},
   "outputs": [
    {
     "data": {
      "text/plain": [
       "(5, 2, 6, 5)"
      ]
     },
     "execution_count": 27,
     "metadata": {},
     "output_type": "execute_result"
    }
   ],
   "source": [
    "tuple(li)"
   ]
  },
  {
   "cell_type": "markdown",
   "id": "c95902d3",
   "metadata": {},
   "source": [
    "## liste comprehension"
   ]
  },
  {
   "cell_type": "code",
   "execution_count": 28,
   "id": "0834ae03",
   "metadata": {},
   "outputs": [
    {
     "data": {
      "text/plain": [
       "[0, 1, 4, 9, 16, 25, 36, 49, 64, 81]"
      ]
     },
     "execution_count": 28,
     "metadata": {},
     "output_type": "execute_result"
    }
   ],
   "source": [
    "liste = []\n",
    "for i in range(10):\n",
    "    liste.append(i**2)\n",
    "liste"
   ]
  },
  {
   "cell_type": "code",
   "execution_count": 30,
   "id": "579b86aa",
   "metadata": {},
   "outputs": [
    {
     "data": {
      "text/plain": [
       "[0, 1, 4, 9, 16, 25, 36, 49, 64, 81]"
      ]
     },
     "execution_count": 30,
     "metadata": {},
     "output_type": "execute_result"
    }
   ],
   "source": [
    "[i**2 for i in range(10)]"
   ]
  },
  {
   "cell_type": "code",
   "execution_count": 33,
   "id": "4baa7c1c",
   "metadata": {},
   "outputs": [
    {
     "data": {
      "text/plain": [
       "[1, 5, 2, 8, 6, 85, 23, 45, 268, 28, 59, 3, 7, 9, 15, 8]"
      ]
     },
     "execution_count": 33,
     "metadata": {},
     "output_type": "execute_result"
    }
   ],
   "source": [
    "li = [ 1,5,2,8,6,85,23,45,268,28,59,3,7,9,15,8]\n",
    "li"
   ]
  },
  {
   "cell_type": "code",
   "execution_count": 46,
   "id": "54d32c5b",
   "metadata": {},
   "outputs": [
    {
     "data": {
      "text/plain": [
       "[2, 8, 6, 268, 28, 8]"
      ]
     },
     "execution_count": 46,
     "metadata": {},
     "output_type": "execute_result"
    }
   ],
   "source": [
    "[element for element in li if element %2 ==0]"
   ]
  },
  {
   "cell_type": "code",
   "execution_count": 47,
   "id": "17fc3d71",
   "metadata": {},
   "outputs": [
    {
     "data": {
      "text/plain": [
       "[(1, 3), (1, 4), (1, 5), (2, 3), (2, 4), (2, 5), (3, 3), (3, 4), (3, 5)]"
      ]
     },
     "execution_count": 47,
     "metadata": {},
     "output_type": "execute_result"
    }
   ],
   "source": [
    "[(x,y) for x in [1,2,3] for y in [3,4,5]]"
   ]
  },
  {
   "cell_type": "code",
   "execution_count": 61,
   "id": "6771e0cf",
   "metadata": {},
   "outputs": [
    {
     "data": {
      "text/plain": [
       "[1, 2, 3, 4, 5, 6, 7]"
      ]
     },
     "execution_count": 61,
     "metadata": {},
     "output_type": "execute_result"
    }
   ],
   "source": [
    "jours = [i for i in range(1,8)]\n",
    "jours"
   ]
  },
  {
   "cell_type": "code",
   "execution_count": 72,
   "id": "49ec9009",
   "metadata": {},
   "outputs": [
    {
     "data": {
      "text/plain": [
       "[1, 2, 3, 4]"
      ]
     },
     "execution_count": 72,
     "metadata": {},
     "output_type": "execute_result"
    }
   ],
   "source": [
    "semaines = [i for i in range(1,5)]\n",
    "semaines"
   ]
  },
  {
   "cell_type": "code",
   "execution_count": 63,
   "id": "9ba73064",
   "metadata": {},
   "outputs": [
    {
     "data": {
      "text/plain": [
       "[(1, [1, 2, 3, 4, 5, 6, 7]),\n",
       " (2, [1, 2, 3, 4, 5, 6, 7]),\n",
       " (3, [1, 2, 3, 4, 5, 6, 7]),\n",
       " (4, [1, 2, 3, 4, 5, 6, 7])]"
      ]
     },
     "execution_count": 63,
     "metadata": {},
     "output_type": "execute_result"
    }
   ],
   "source": [
    "[ (semaine,jours) for semaine in semaines]"
   ]
  },
  {
   "cell_type": "code",
   "execution_count": 70,
   "id": "3f3cd39b",
   "metadata": {},
   "outputs": [
    {
     "data": {
      "text/plain": [
       "[]"
      ]
     },
     "execution_count": 70,
     "metadata": {},
     "output_type": "execute_result"
    }
   ],
   "source": [
    "semaines"
   ]
  },
  {
   "cell_type": "code",
   "execution_count": 73,
   "id": "2fc732aa",
   "metadata": {},
   "outputs": [
    {
     "data": {
      "text/plain": [
       "[2, 3, 4]"
      ]
     },
     "execution_count": 73,
     "metadata": {},
     "output_type": "execute_result"
    }
   ],
   "source": [
    "del semaines[0]\n",
    "semaines"
   ]
  },
  {
   "cell_type": "markdown",
   "id": "402b5041",
   "metadata": {},
   "source": [
    "## Sets"
   ]
  },
  {
   "cell_type": "code",
   "execution_count": 75,
   "id": "4f31ad01",
   "metadata": {},
   "outputs": [
    {
     "data": {
      "text/plain": [
       "[1, 2, 5, 1, 2, 3, 5, 2, 1, 7, 5, 12, 2, 1, 2]"
      ]
     },
     "execution_count": 75,
     "metadata": {},
     "output_type": "execute_result"
    }
   ],
   "source": [
    "li = [1,2,5,1,2,3,5,2,1,7,5,12,2,1,2]\n",
    "li"
   ]
  },
  {
   "cell_type": "code",
   "execution_count": 77,
   "id": "bc2a8fab",
   "metadata": {},
   "outputs": [
    {
     "data": {
      "text/plain": [
       "{1, 2, 3, 5, 7, 12}"
      ]
     },
     "execution_count": 77,
     "metadata": {},
     "output_type": "execute_result"
    }
   ],
   "source": [
    "set(li)"
   ]
  },
  {
   "cell_type": "code",
   "execution_count": 85,
   "id": "95de0c5d",
   "metadata": {},
   "outputs": [
    {
     "data": {
      "text/plain": [
       "{12, 15}"
      ]
     },
     "execution_count": 85,
     "metadata": {},
     "output_type": "execute_result"
    }
   ],
   "source": [
    "{12,1} ^ {1,15}"
   ]
  },
  {
   "cell_type": "markdown",
   "id": "f7b64ee7",
   "metadata": {},
   "source": [
    "## `Dictionnaires`"
   ]
  },
  {
   "cell_type": "code",
   "execution_count": 86,
   "id": "40b5fe4c",
   "metadata": {},
   "outputs": [
    {
     "data": {
      "text/plain": [
       "{}"
      ]
     },
     "execution_count": 86,
     "metadata": {},
     "output_type": "execute_result"
    }
   ],
   "source": [
    "{}"
   ]
  },
  {
   "cell_type": "code",
   "execution_count": 88,
   "id": "10cc97b1",
   "metadata": {},
   "outputs": [
    {
     "data": {
      "text/plain": [
       "{}"
      ]
     },
     "execution_count": 88,
     "metadata": {},
     "output_type": "execute_result"
    }
   ],
   "source": [
    "dict()"
   ]
  },
  {
   "cell_type": "code",
   "execution_count": 90,
   "id": "241f3696",
   "metadata": {},
   "outputs": [
    {
     "data": {
      "text/plain": [
       "{'cle': 2, 'cli': 5, 'clo': 56}"
      ]
     },
     "execution_count": 90,
     "metadata": {},
     "output_type": "execute_result"
    }
   ],
   "source": [
    "d = {\"cle\":2,\"cli\":5,\"clo\":56}\n",
    "d"
   ]
  },
  {
   "cell_type": "code",
   "execution_count": 92,
   "id": "2d3b8594",
   "metadata": {},
   "outputs": [
    {
     "data": {
      "text/plain": [
       "2"
      ]
     },
     "execution_count": 92,
     "metadata": {},
     "output_type": "execute_result"
    }
   ],
   "source": [
    "d[\"cle\"]"
   ]
  },
  {
   "cell_type": "code",
   "execution_count": 93,
   "id": "9e397b77",
   "metadata": {},
   "outputs": [
    {
     "data": {
      "text/plain": [
       "56"
      ]
     },
     "execution_count": 93,
     "metadata": {},
     "output_type": "execute_result"
    }
   ],
   "source": [
    "d[\"clo\"]"
   ]
  },
  {
   "cell_type": "code",
   "execution_count": 97,
   "id": "6a48dd10",
   "metadata": {},
   "outputs": [
    {
     "data": {
      "text/plain": [
       "dict_keys(['cle', 'cli', 'clo'])"
      ]
     },
     "execution_count": 97,
     "metadata": {},
     "output_type": "execute_result"
    }
   ],
   "source": [
    "d.keys()"
   ]
  },
  {
   "cell_type": "code",
   "execution_count": 98,
   "id": "2dda0d83",
   "metadata": {},
   "outputs": [
    {
     "data": {
      "text/plain": [
       "dict_values([2, 5, 56])"
      ]
     },
     "execution_count": 98,
     "metadata": {},
     "output_type": "execute_result"
    }
   ],
   "source": [
    "d.values()"
   ]
  },
  {
   "cell_type": "code",
   "execution_count": 99,
   "id": "5563ab14",
   "metadata": {
    "collapsed": true
   },
   "outputs": [
    {
     "name": "stdout",
     "output_type": "stream",
     "text": [
      "Help on dict object:\n",
      "\n",
      "class dict(object)\n",
      " |  dict() -> new empty dictionary\n",
      " |  dict(mapping) -> new dictionary initialized from a mapping object's\n",
      " |      (key, value) pairs\n",
      " |  dict(iterable) -> new dictionary initialized as if via:\n",
      " |      d = {}\n",
      " |      for k, v in iterable:\n",
      " |          d[k] = v\n",
      " |  dict(**kwargs) -> new dictionary initialized with the name=value pairs\n",
      " |      in the keyword argument list.  For example:  dict(one=1, two=2)\n",
      " |  \n",
      " |  Built-in subclasses:\n",
      " |      StgDict\n",
      " |  \n",
      " |  Methods defined here:\n",
      " |  \n",
      " |  __contains__(self, key, /)\n",
      " |      True if the dictionary has the specified key, else False.\n",
      " |  \n",
      " |  __delitem__(self, key, /)\n",
      " |      Delete self[key].\n",
      " |  \n",
      " |  __eq__(self, value, /)\n",
      " |      Return self==value.\n",
      " |  \n",
      " |  __ge__(self, value, /)\n",
      " |      Return self>=value.\n",
      " |  \n",
      " |  __getattribute__(self, name, /)\n",
      " |      Return getattr(self, name).\n",
      " |  \n",
      " |  __getitem__(...)\n",
      " |      x.__getitem__(y) <==> x[y]\n",
      " |  \n",
      " |  __gt__(self, value, /)\n",
      " |      Return self>value.\n",
      " |  \n",
      " |  __init__(self, /, *args, **kwargs)\n",
      " |      Initialize self.  See help(type(self)) for accurate signature.\n",
      " |  \n",
      " |  __iter__(self, /)\n",
      " |      Implement iter(self).\n",
      " |  \n",
      " |  __le__(self, value, /)\n",
      " |      Return self<=value.\n",
      " |  \n",
      " |  __len__(self, /)\n",
      " |      Return len(self).\n",
      " |  \n",
      " |  __lt__(self, value, /)\n",
      " |      Return self<value.\n",
      " |  \n",
      " |  __ne__(self, value, /)\n",
      " |      Return self!=value.\n",
      " |  \n",
      " |  __repr__(self, /)\n",
      " |      Return repr(self).\n",
      " |  \n",
      " |  __reversed__(self, /)\n",
      " |      Return a reverse iterator over the dict keys.\n",
      " |  \n",
      " |  __setitem__(self, key, value, /)\n",
      " |      Set self[key] to value.\n",
      " |  \n",
      " |  __sizeof__(...)\n",
      " |      D.__sizeof__() -> size of D in memory, in bytes\n",
      " |  \n",
      " |  clear(...)\n",
      " |      D.clear() -> None.  Remove all items from D.\n",
      " |  \n",
      " |  copy(...)\n",
      " |      D.copy() -> a shallow copy of D\n",
      " |  \n",
      " |  get(self, key, default=None, /)\n",
      " |      Return the value for key if key is in the dictionary, else default.\n",
      " |  \n",
      " |  items(...)\n",
      " |      D.items() -> a set-like object providing a view on D's items\n",
      " |  \n",
      " |  keys(...)\n",
      " |      D.keys() -> a set-like object providing a view on D's keys\n",
      " |  \n",
      " |  pop(...)\n",
      " |      D.pop(k[,d]) -> v, remove specified key and return the corresponding value.\n",
      " |      If key is not found, d is returned if given, otherwise KeyError is raised\n",
      " |  \n",
      " |  popitem(self, /)\n",
      " |      Remove and return a (key, value) pair as a 2-tuple.\n",
      " |      \n",
      " |      Pairs are returned in LIFO (last-in, first-out) order.\n",
      " |      Raises KeyError if the dict is empty.\n",
      " |  \n",
      " |  setdefault(self, key, default=None, /)\n",
      " |      Insert key with a value of default if key is not in the dictionary.\n",
      " |      \n",
      " |      Return the value for key if key is in the dictionary, else default.\n",
      " |  \n",
      " |  update(...)\n",
      " |      D.update([E, ]**F) -> None.  Update D from dict/iterable E and F.\n",
      " |      If E is present and has a .keys() method, then does:  for k in E: D[k] = E[k]\n",
      " |      If E is present and lacks a .keys() method, then does:  for k, v in E: D[k] = v\n",
      " |      In either case, this is followed by: for k in F:  D[k] = F[k]\n",
      " |  \n",
      " |  values(...)\n",
      " |      D.values() -> an object providing a view on D's values\n",
      " |  \n",
      " |  ----------------------------------------------------------------------\n",
      " |  Class methods defined here:\n",
      " |  \n",
      " |  fromkeys(iterable, value=None, /) from builtins.type\n",
      " |      Create a new dictionary with keys from iterable and values set to value.\n",
      " |  \n",
      " |  ----------------------------------------------------------------------\n",
      " |  Static methods defined here:\n",
      " |  \n",
      " |  __new__(*args, **kwargs) from builtins.type\n",
      " |      Create and return a new object.  See help(type) for accurate signature.\n",
      " |  \n",
      " |  ----------------------------------------------------------------------\n",
      " |  Data and other attributes defined here:\n",
      " |  \n",
      " |  __hash__ = None\n",
      "\n"
     ]
    }
   ],
   "source": [
    "help(d)"
   ]
  },
  {
   "cell_type": "code",
   "execution_count": 102,
   "id": "1dc5ccdb",
   "metadata": {},
   "outputs": [
    {
     "name": "stdout",
     "output_type": "stream",
     "text": [
      "cle 2\n",
      "cli 5\n",
      "clo 56\n"
     ]
    }
   ],
   "source": [
    "for i in d:\n",
    "    print(i,d[i])"
   ]
  },
  {
   "cell_type": "code",
   "execution_count": 103,
   "id": "d7f6ee39",
   "metadata": {},
   "outputs": [
    {
     "name": "stdout",
     "output_type": "stream",
     "text": [
      "2\n",
      "5\n",
      "56\n"
     ]
    }
   ],
   "source": [
    "for i in d.values():\n",
    "    print(i)"
   ]
  },
  {
   "cell_type": "code",
   "execution_count": 104,
   "id": "3c0d71b4",
   "metadata": {},
   "outputs": [
    {
     "name": "stdout",
     "output_type": "stream",
     "text": [
      "cle\n",
      "cli\n",
      "clo\n"
     ]
    }
   ],
   "source": [
    "for i in d.keys():\n",
    "    print(i)"
   ]
  },
  {
   "cell_type": "code",
   "execution_count": 105,
   "id": "fb3b72c6",
   "metadata": {},
   "outputs": [
    {
     "data": {
      "text/plain": [
       "dict_items([('cle', 2), ('cli', 5), ('clo', 56)])"
      ]
     },
     "execution_count": 105,
     "metadata": {},
     "output_type": "execute_result"
    }
   ],
   "source": [
    "d.items()"
   ]
  },
  {
   "cell_type": "code",
   "execution_count": 108,
   "id": "e122cd36",
   "metadata": {},
   "outputs": [
    {
     "name": "stdout",
     "output_type": "stream",
     "text": [
      "la clé est :  cle  et la valeur est : 2\n",
      "la clé est :  cli  et la valeur est : 5\n",
      "la clé est :  clo  et la valeur est : 56\n"
     ]
    }
   ],
   "source": [
    "for k,v in d.items():\n",
    "    print(\"la clé est : \",k,\" et la valeur est :\",v)"
   ]
  },
  {
   "cell_type": "code",
   "execution_count": 111,
   "id": "416b339d",
   "metadata": {},
   "outputs": [
    {
     "data": {
      "text/plain": [
       "<zip at 0x1a9da3543c0>"
      ]
     },
     "execution_count": 111,
     "metadata": {},
     "output_type": "execute_result"
    }
   ],
   "source": [
    "nom = [\"ZELEFACK\",\"FOTSO\",\"NGAH\"]\n",
    "prenom = [\"Junior\",\"Valdez\",\"Eugenie\"]\n",
    "zip(nom,prenom)"
   ]
  },
  {
   "cell_type": "code",
   "execution_count": 113,
   "id": "396ea9b3",
   "metadata": {},
   "outputs": [
    {
     "name": "stdout",
     "output_type": "stream",
     "text": [
      "ZELEFACK Junior\n",
      "FOTSO Valdez\n",
      "NGAH Eugenie\n"
     ]
    }
   ],
   "source": [
    "for i,j in zip(nom,prenom):\n",
    "    print(i,j)"
   ]
  },
  {
   "cell_type": "code",
   "execution_count": 155,
   "id": "a2f48f32",
   "metadata": {},
   "outputs": [
    {
     "name": "stdout",
     "output_type": "stream",
     "text": [
      "   \n",
      "\n",
      "   *  *          *  *\n",
      " *      *      *      * \n",
      "*        *    *        *\n",
      "*         *  *         *\n",
      "*          **          *\n",
      " *                    *\n",
      "  *                  *\n",
      "   *                * \n",
      "    *              *\n",
      "     *            *\n",
      "      *          *\n",
      "       *        *\n",
      "        *      *\n",
      "         *    * \n",
      "          *  *\n",
      "           **      \n",
      "\n"
     ]
    }
   ],
   "source": [
    "\n",
    "print(\"\"\"   \n",
    "\n",
    "   a  a          a  a\n",
    " a      a      a      a \n",
    "a        a    a        a\n",
    "a         a  a         a\n",
    "a          aa          a\n",
    " a                    a\n",
    "  a                  a\n",
    "   a                a \n",
    "    a              a\n",
    "     a            a\n",
    "      a          a\n",
    "       a        a\n",
    "        a      a\n",
    "         a    a \n",
    "          a  a\n",
    "           aa      \n",
    "\"\"\".replace(\"a\",\"*\"))"
   ]
  },
  {
   "cell_type": "code",
   "execution_count": 156,
   "id": "7a3daa49",
   "metadata": {},
   "outputs": [
    {
     "data": {
      "text/plain": [
       "'   \\n\\n   a  a          a  a\\n a      a      a      a \\na        a    a        a\\na         a  a         a\\na          aa          a\\n a                    a\\n  a                  a\\n   a                a \\n    a              a\\n     a            a\\n      a          a\\n       a        a\\n        a      a\\n         a    a \\n          a  a\\n           aa      \\n'"
      ]
     },
     "execution_count": 156,
     "metadata": {},
     "output_type": "execute_result"
    }
   ],
   "source": [
    "\n",
    "\"\"\"   \n",
    "\n",
    "   a  a          a  a\n",
    " a      a      a      a \n",
    "a        a    a        a\n",
    "a         a  a         a\n",
    "a          aa          a\n",
    " a                    a\n",
    "  a                  a\n",
    "   a                a \n",
    "    a              a\n",
    "     a            a\n",
    "      a          a\n",
    "       a        a\n",
    "        a      a\n",
    "         a    a \n",
    "          a  a\n",
    "           aa      \n",
    "\"\"\""
   ]
  },
  {
   "cell_type": "code",
   "execution_count": 157,
   "id": "4a79517b",
   "metadata": {},
   "outputs": [],
   "source": [
    "coeur= '   \\n\\n   a  a          a  a\\n a      a      a      a \\na        a    a        a\\na         a  a         a\\na          aa          a\\n a                    a\\n  a                  a\\n   a                a \\n    a              a\\n     a            a\\n      a          a\\n       a        a\\n        a      a\\n         a    a \\n          a  a\\n           aa      \\n'"
   ]
  },
  {
   "cell_type": "code",
   "execution_count": 158,
   "id": "cf3cb12e",
   "metadata": {},
   "outputs": [
    {
     "name": "stdout",
     "output_type": "stream",
     "text": [
      "   \n",
      "\n",
      "   a  a          a  a\n",
      " a      a      a      a \n",
      "a        a    a        a\n",
      "a         a  a         a\n",
      "a          aa          a\n",
      " a                    a\n",
      "  a                  a\n",
      "   a                a \n",
      "    a              a\n",
      "     a            a\n",
      "      a          a\n",
      "       a        a\n",
      "        a      a\n",
      "         a    a \n",
      "          a  a\n",
      "           aa      \n",
      "\n"
     ]
    }
   ],
   "source": [
    "print(coeur)"
   ]
  },
  {
   "cell_type": "code",
   "execution_count": 150,
   "id": "d0f95c43",
   "metadata": {},
   "outputs": [
    {
     "name": "stdout",
     "output_type": "stream",
     "text": [
      "   \n",
      "     jtm              jtm\n",
      "   jtm  jtm        jtm  jtm\n",
      " jtm      jtm    jtm      jtm \n",
      "jtm        jtm  jtm        jtm\n",
      "jtm         jtmjtm         jtm\n",
      "jtm          jtm          jtm\n",
      " jtm                    jtm\n",
      "  jtm                  jtm\n",
      "   jtm                jtm \n",
      "    jtm              jtm\n",
      "     jtm            jtm\n",
      "      jtm          jtm\n",
      "       jtm        jtm\n",
      "        jtm      jtm\n",
      "         jtm    jtm \n",
      "          jtm  jtm\n",
      "           jtmjtm\n",
      "            jtm\n",
      "\n"
     ]
    }
   ],
   "source": [
    "print(\"\"\"   \n",
    "     a              a\n",
    "   a  a        a  a\n",
    " a      a    a      a \n",
    "a        a  a        a\n",
    "a         aa         a\n",
    "a          a          a\n",
    " a                    a\n",
    "  a                  a\n",
    "   a                a \n",
    "    a              a\n",
    "     a            a\n",
    "      a          a\n",
    "       a        a\n",
    "        a      a\n",
    "         a    a \n",
    "          a  a\n",
    "           aa\n",
    "            a\n",
    "\"\"\".replace(\"a\",\"jtm\"))"
   ]
  },
  {
   "cell_type": "code",
   "execution_count": null,
   "id": "6f457204",
   "metadata": {},
   "outputs": [],
   "source": []
  }
 ],
 "metadata": {
  "kernelspec": {
   "display_name": "Python 3",
   "language": "python",
   "name": "python3"
  },
  "language_info": {
   "codemirror_mode": {
    "name": "ipython",
    "version": 3
   },
   "file_extension": ".py",
   "mimetype": "text/x-python",
   "name": "python",
   "nbconvert_exporter": "python",
   "pygments_lexer": "ipython3",
   "version": "3.8.10"
  }
 },
 "nbformat": 4,
 "nbformat_minor": 5
}
