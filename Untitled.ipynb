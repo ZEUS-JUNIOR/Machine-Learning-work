{
 "cells": [
  {
   "cell_type": "code",
   "execution_count": 1,
   "id": "332477c4",
   "metadata": {},
   "outputs": [],
   "source": [
    "import numpy as np"
   ]
  },
  {
   "cell_type": "code",
   "execution_count": 8,
   "id": "2de99c35",
   "metadata": {},
   "outputs": [
    {
     "data": {
      "text/plain": [
       "array([[1, 2, 3],\n",
       "       [3, 5, 8],\n",
       "       [5, 9, 1]])"
      ]
     },
     "execution_count": 8,
     "metadata": {},
     "output_type": "execute_result"
    }
   ],
   "source": [
    "A = np.array(([1,2,3],[3,5,8],[5,9,1]))\n",
    "A"
   ]
  },
  {
   "cell_type": "code",
   "execution_count": 10,
   "id": "bba95296",
   "metadata": {},
   "outputs": [
    {
     "data": {
      "text/plain": [
       "array([[ 0,  2,  3],\n",
       "       [ 3,  4,  8],\n",
       "       [10,  2,  1]])"
      ]
     },
     "execution_count": 10,
     "metadata": {},
     "output_type": "execute_result"
    }
   ],
   "source": [
    "B = np.array(([0,2,3],[3,4,8],[10,2,1]))\n",
    "B"
   ]
  },
  {
   "cell_type": "code",
   "execution_count": null,
   "id": "33da0715",
   "metadata": {},
   "outputs": [],
   "source": [
    "matrix=[[1,2,3],[2,3,5],[6,7,8]]\n"
   ]
  },
  {
   "cell_type": "code",
   "execution_count": null,
   "id": "415ac71b",
   "metadata": {},
   "outputs": [],
   "source": [
    "b=[2,8,4,9,5,7,45]\n",
    "for i in b:\n",
    "    print(i)"
   ]
  },
  {
   "cell_type": "code",
   "execution_count": null,
   "id": "79899535",
   "metadata": {},
   "outputs": [],
   "source": [
    "A + 100"
   ]
  },
  {
   "cell_type": "code",
   "execution_count": 15,
   "id": "c2e438ea",
   "metadata": {},
   "outputs": [
    {
     "data": {
      "text/plain": [
       "array([[ 2,  4,  6],\n",
       "       [ 4,  7, 11],\n",
       "       [ 6, 11,  4]])"
      ]
     },
     "execution_count": 15,
     "metadata": {},
     "output_type": "execute_result"
    }
   ],
   "source": [
    "A + np.array(([1,2,3]))"
   ]
  },
  {
   "cell_type": "code",
   "execution_count": 44,
   "id": "90387979",
   "metadata": {},
   "outputs": [
    {
     "data": {
      "text/plain": [
       "array([[1],\n",
       "       [2],\n",
       "       [3]])"
      ]
     },
     "execution_count": 44,
     "metadata": {},
     "output_type": "execute_result"
    }
   ],
   "source": [
    "np.array(([1,2,3])).reshape((3,1)) "
   ]
  },
  {
   "cell_type": "code",
   "execution_count": 57,
   "id": "db0aa447",
   "metadata": {},
   "outputs": [
    {
     "data": {
      "text/plain": [
       "array([[100, 128],\n",
       "       [121,  12],\n",
       "       [125,  85]])"
      ]
     },
     "execution_count": 57,
     "metadata": {},
     "output_type": "execute_result"
    }
   ],
   "source": [
    "np.array(([100,121,125],[128,12,85])).T"
   ]
  },
  {
   "cell_type": "code",
   "execution_count": null,
   "id": "d77493a2",
   "metadata": {},
   "outputs": [],
   "source": []
  }
 ],
 "metadata": {
  "kernelspec": {
   "display_name": "Python 3",
   "language": "python",
   "name": "python3"
  }
 },
 "nbformat": 4,
 "nbformat_minor": 5
}
